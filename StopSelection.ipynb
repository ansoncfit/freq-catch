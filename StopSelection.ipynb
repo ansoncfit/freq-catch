{
 "cells": [
  {
   "cell_type": "code",
   "execution_count": 92,
   "metadata": {},
   "outputs": [
    {
     "name": "stdout",
     "output_type": "stream",
     "text": [
      "Enter config folder within data directory: calgary-2019\n",
      "Done writing.\n"
     ]
    }
   ],
   "source": [
    "# Write a CSV of GTFS stops served by specified routes\n",
    "# Requires a config.yaml with \n",
    "#   feed: (GTFS feed), \n",
    "#   route_ids: (string or integer series), \n",
    "#   agency + route_short_names (if route_ids are inconvenient to use)\n",
    "\n",
    "import partridge as pa\n",
    "import pandas as pd\n",
    "import yaml\n",
    "\n",
    "# Interactive input\n",
    "folder = input('Enter config folder within data directory: ')\n",
    "dir = 'data/' + folder + '/'\n",
    "\n",
    "# Load config file\n",
    "config = yaml.load(open(dir + 'config.yaml'))\n",
    "\n",
    "#Load feed and tables\n",
    "feed = pa.load_raw_feed(dir + config.get('feed'))\n",
    "r = feed.routes\n",
    "t = feed.trips\n",
    "st = feed.stop_times\n",
    "s = feed.stops\n",
    "\n",
    "route_ids = pd.DataFrame({'route_id' : list(map(str, config.get('route_ids')))})\n",
    "\n",
    "agency_id = config.get('agency_id')\n",
    "if (agency_id):\n",
    "    agency_id = str(agency_id)\n",
    "\n",
    "route_short_names = config.get('route_short_names')\n",
    "if (route_short_names): \n",
    "    route_short_names = list(map(str, route_short_names))\n",
    "    \n",
    "# Combine route lists\n",
    "if (isinstance(route_short_names, list) & isinstance(agency_id, str)):\n",
    "    route_ids = pd.DataFrame(\n",
    "        r[((r['route_short_name'].isin(route_short_names)) & (r['agency_id'] == agency_id))] \\\n",
    "        ['route_id']) \\\n",
    "        .append(route_ids)\n",
    "\n",
    "# Look up relevant trips and stops\n",
    "trip_ids = t[t['route_id'].isin(route_ids.iloc[:,0] )]['trip_id']\n",
    "stop_ids = st[st['trip_id'].isin(trip_ids)]['stop_id']\n",
    "stops = s[s['stop_id'].isin(stop_ids)].loc[:,['stop_id','stop_lat','stop_lon']]\n",
    "\n",
    "# Write stops\n",
    "stops.to_csv('data/stops_' + folder + '.csv', index=False)\n",
    "print(\"Done writing.\")"
   ]
  }
 ],
 "metadata": {
  "kernelspec": {
   "display_name": "Python 3",
   "language": "python",
   "name": "python3"
  }
 },
 "nbformat": 4,
 "nbformat_minor": 2
}
